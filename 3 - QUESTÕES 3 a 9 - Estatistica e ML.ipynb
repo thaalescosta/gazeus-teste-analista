{
 "cells": [
  {
   "cell_type": "markdown",
   "metadata": {},
   "source": [
    "### **Bibliotecas**"
   ]
  },
  {
   "cell_type": "code",
   "execution_count": 1,
   "metadata": {},
   "outputs": [],
   "source": [
    "import pandas as pd\n",
    "from scipy.stats import  f_oneway, pearsonr, linregress\n",
    "import matplotlib.pyplot as plt\n",
    "import seaborn as sns"
   ]
  },
  {
   "cell_type": "markdown",
   "metadata": {
    "vscode": {
     "languageId": "plaintext"
    }
   },
   "source": [
    "### **``Estatística e Machine Learning - QUESTÃO 3``**\n",
    "\n",
    "Determine:\n",
    "- Hipótese nula ($H_0$)\n",
    "- Hipótese alternativa ($H_a$)\n",
    "\n",
    "Do seguinte cenário:\n",
    "\n",
    "- Uma empresa afirma que o tempo médio de produção dos seus produtos é de menos de 4 dias.\n",
    "\n",
    "\\\n",
    "Você, conta com uma amostra dessas entregas para validar estadísticamente essa afirmação.\n",
    "\n",
    "<br>\n",
    "Como quero testar se o tempo médio de produção realmente é menor que 4 dias:\n",
    "\n",
    "$\n",
    "\\begin{cases}\n",
    "H_0: \\mu \\geq 4 & \\text{(Tempo médio de produção} \\geq \\text{4 dias)} \\\\\n",
    "H_a: \\mu < 4 & \\text{(Tempo médio de produção < 4 dias)}\n",
    "\\end{cases}\n",
    "$\n",
    "\n",
    "<br>\n",
    "\n",
    "---"
   ]
  },
  {
   "cell_type": "markdown",
   "metadata": {},
   "source": [
    "### **``Estatística e Machine Learning - QUESTÃO 4``**\n",
    "\n",
    "Suponha que numa escola, 4 grupos diferentes de estudantes fazem o mesmo teste de matemática com as seguintes pontuações:\n",
    "- **Grupo A:** {80, 85, 88, 90, 92, 75, 78}\n",
    "\n",
    "- **Grupo B:** {75, 78, 82, 85, 87, 93, 99}\n",
    "\n",
    "- **Grupo C:** {20, 78, 82, 18, 30, 93, 15}\n",
    "\n",
    "- **Grupo D:** {40, 55, 65, 75, 85, 95, 100}\n",
    "\n",
    "\\\n",
    "Elabore um teste de hipótese para determinar se existe uma diferença estatisticamente significativa na distribuição das pontuações dos grupos\n",
    "\n",
    "$\n",
    "\\begin{cases}\n",
    "H_0: \\mu_A = \\mu_B = \\mu_C = \\mu_D & \\text{(Não há diferença significativa entre as médias dos grupos)} \\\\\n",
    "H_1: i,j \\in \\{A,B,C,D\\}\\ |\\ \\mu_i \\neq \\mu_j & \\text{(Pelo menos dois grupos têm médias significativamente diferentes)}\n",
    "\\end{cases}\n",
    "$\n",
    "\n",
    "O teste ANOVA foi projetado para comparar as médias de três ou mais grupos independentes, sendo ideal para determinar se há diferenças significativas entre eles de forma simultânea.\n",
    "\n",
    "Uma de suas principais vantagens é o controle do erro tipo I (rejeitar incorretamente a hipótese nula), mantendo a taxa de erro em α (geralmente 0,05) para a comparação global entre todos os grupos.\n",
    "\n",
    "Esse valor representa a probabilidade máxima aceitável de cometer um erro tipo I."
   ]
  },
  {
   "cell_type": "code",
   "execution_count": 2,
   "metadata": {},
   "outputs": [
    {
     "name": "stdout",
     "output_type": "stream",
     "text": [
      "Média A: 84.00\tDesvio A: 5.98\n",
      "Média B: 85.57\tDesvio B: 7.74\n",
      "Média C: 48.00\tDesvio C: 32.02\n",
      "Média D: 73.57\tDesvio D: 20.13\n",
      "\n",
      "F-statistic: 4.7395\n",
      "P-value = 0.0098\n"
     ]
    }
   ],
   "source": [
    "dados = {\n",
    "    'A': [80, 85, 88, 90, 92, 75, 78],\n",
    "    'B': [75, 78, 82, 85, 87, 93, 99],\n",
    "    'C': [20, 78, 82, 18, 30, 93, 15],\n",
    "    'D': [40, 55, 65, 75, 85, 95, 100]\n",
    "}\n",
    "\n",
    "# Criando o DataFrame\n",
    "dataset = pd.DataFrame(dados)\n",
    "\n",
    "# Perform ANOVA using DataFrame columns\n",
    "f_statistic, p_value = f_oneway(dataset['A'], dataset['B'], dataset['C'], dataset['D'])\n",
    "\n",
    "print(f\"Média A: {dataset['A'].mean():.2f}\\tDesvio A: {dataset['A'].std(ddof=0):.2f}\")\n",
    "print(f\"Média B: {dataset['B'].mean():.2f}\\tDesvio B: {dataset['B'].std(ddof=0):.2f}\")\n",
    "print(f\"Média C: {dataset['C'].mean():.2f}\\tDesvio C: {dataset['C'].std(ddof=0):.2f}\")\n",
    "print(f\"Média D: {dataset['D'].mean():.2f}\\tDesvio D: {dataset['D'].std(ddof=0):.2f}\")\n",
    "\n",
    "# Results\n",
    "print(f\"\\nF-statistic: {f_statistic:.4f}\")\n",
    "print(f\"P-value = {p_value:.4f}\")"
   ]
  },
  {
   "cell_type": "markdown",
   "metadata": {},
   "source": [
    "No caso em questão:\n",
    " - $P\\text-value = 0.0098 < 0.05$\n",
    " \n",
    "Dessa forma, rejeitamos $H_0$ e podemos afirmar que ``há uma diferença estatisticamente significante`` nas distribuição das pontuações dos grupos.\n",
    "\n",
    "<br>\n",
    "\n",
    "---"
   ]
  },
  {
   "cell_type": "markdown",
   "metadata": {},
   "source": [
    "### **``Estatística e Machine Learning - QUESTÃO 5``**\n",
    "\n",
    "Qual é a relação do  \"Número de aparições Zendaya em filmes por ano\" e \"Número de pessoas afogadas em piscinas no Brasil ao ano\"."
   ]
  },
  {
   "cell_type": "code",
   "execution_count": 3,
   "metadata": {},
   "outputs": [
    {
     "data": {
      "text/html": [
       "<div>\n",
       "<style scoped>\n",
       "    .dataframe tbody tr th:only-of-type {\n",
       "        vertical-align: middle;\n",
       "    }\n",
       "\n",
       "    .dataframe tbody tr th {\n",
       "        vertical-align: top;\n",
       "    }\n",
       "\n",
       "    .dataframe thead th {\n",
       "        text-align: right;\n",
       "    }\n",
       "</style>\n",
       "<table border=\"1\" class=\"dataframe\">\n",
       "  <thead>\n",
       "    <tr style=\"text-align: right;\">\n",
       "      <th></th>\n",
       "      <th>Ano</th>\n",
       "      <th>Aparicoes_Zendaya</th>\n",
       "      <th>Afogamentos_Brasil</th>\n",
       "    </tr>\n",
       "  </thead>\n",
       "  <tbody>\n",
       "    <tr>\n",
       "      <th>0</th>\n",
       "      <td>2015</td>\n",
       "      <td>4</td>\n",
       "      <td>107</td>\n",
       "    </tr>\n",
       "    <tr>\n",
       "      <th>1</th>\n",
       "      <td>2016</td>\n",
       "      <td>7</td>\n",
       "      <td>146</td>\n",
       "    </tr>\n",
       "    <tr>\n",
       "      <th>2</th>\n",
       "      <td>2017</td>\n",
       "      <td>16</td>\n",
       "      <td>178</td>\n",
       "    </tr>\n",
       "    <tr>\n",
       "      <th>3</th>\n",
       "      <td>2018</td>\n",
       "      <td>21</td>\n",
       "      <td>199</td>\n",
       "    </tr>\n",
       "    <tr>\n",
       "      <th>4</th>\n",
       "      <td>2019</td>\n",
       "      <td>26</td>\n",
       "      <td>221</td>\n",
       "    </tr>\n",
       "    <tr>\n",
       "      <th>5</th>\n",
       "      <td>2020</td>\n",
       "      <td>2</td>\n",
       "      <td>114</td>\n",
       "    </tr>\n",
       "    <tr>\n",
       "      <th>6</th>\n",
       "      <td>2021</td>\n",
       "      <td>6</td>\n",
       "      <td>133</td>\n",
       "    </tr>\n",
       "    <tr>\n",
       "      <th>7</th>\n",
       "      <td>2022</td>\n",
       "      <td>12</td>\n",
       "      <td>159</td>\n",
       "    </tr>\n",
       "    <tr>\n",
       "      <th>8</th>\n",
       "      <td>2023</td>\n",
       "      <td>16</td>\n",
       "      <td>183</td>\n",
       "    </tr>\n",
       "    <tr>\n",
       "      <th>9</th>\n",
       "      <td>2024</td>\n",
       "      <td>32</td>\n",
       "      <td>215</td>\n",
       "    </tr>\n",
       "  </tbody>\n",
       "</table>\n",
       "</div>"
      ],
      "text/plain": [
       "    Ano  Aparicoes_Zendaya  Afogamentos_Brasil\n",
       "0  2015                  4                 107\n",
       "1  2016                  7                 146\n",
       "2  2017                 16                 178\n",
       "3  2018                 21                 199\n",
       "4  2019                 26                 221\n",
       "5  2020                  2                 114\n",
       "6  2021                  6                 133\n",
       "7  2022                 12                 159\n",
       "8  2023                 16                 183\n",
       "9  2024                 32                 215"
      ]
     },
     "metadata": {},
     "output_type": "display_data"
    },
    {
     "data": {
      "image/png": "[encoded data removed]",
      "text/plain": [
       "<Figure size 800x500 with 1 Axes>"
      ]
     },
     "metadata": {},
     "output_type": "display_data"
    },
    {
     "name": "stdout",
     "output_type": "stream",
     "text": [
      "Coeficiente de correlação (r): 0.9611\n",
      "R²: 0.9237\n",
      "Valor-p: 0.000010\n"
     ]
    }
   ],
   "source": [
    "data = {\n",
    "    'Ano': [2015, 2016, 2017, 2018, 2019, 2020, 2021, 2022, 2023, 2024],\n",
    "    'Aparicoes_Zendaya': [4, 7, 16, 21, 26, 2, 6, 12, 16, 32],\n",
    "    'Afogamentos_Brasil': [107, 146, 178, 199, 221, 114, 133, 159, 183, 215]\n",
    "}\n",
    "\n",
    "dataset_df = pd.DataFrame(data)\n",
    "display(dataset_df)\n",
    "\n",
    "plt.figure(figsize=(8, 5))\n",
    "sns.regplot(x='Aparicoes_Zendaya', y='Afogamentos_Brasil', data=dataset_df)\n",
    "plt.title('Relação entre Aparições da Zendaya e Afogamentos em Piscinas no Brasil')\n",
    "plt.xlabel('Número de Aparições da Zendaya em Filmes')\n",
    "plt.ylabel('Número de Afogamentos em Piscinas no Brasil')\n",
    "plt.grid(True, alpha=0.1)\n",
    "\n",
    "# Adicionar a equação da linha de regressão e o R²\n",
    "slope, intercept, r_value, p_value, std_err = linregress(dataset_df['Aparicoes_Zendaya'], dataset_df['Afogamentos_Brasil'])\n",
    "plt.text(20, 155, f'r = {r_value:.4f}', fontsize=10)\n",
    "plt.text(20, 145, f'R² = {r_value**2:.4f}', fontsize=10)\n",
    "plt.text(20, 135, f'p-value = {p_value:.6f}', fontsize=10)\n",
    "\n",
    "plt.tight_layout()\n",
    "plt.show()\n",
    "\n",
    "# Calcular o teste de hipótese para verificar se a correlação é estatisticamente significativa\n",
    "r, p_value = pearsonr(dataset_df['Aparicoes_Zendaya'], dataset_df['Afogamentos_Brasil'])\n",
    "\n",
    "\n",
    "print(f\"Coeficiente de correlação (r): {r:.4f}\")\n",
    "print(f\"R²: {r*r:.4f}\")\n",
    "print(f\"Valor-p: {p_value:.6f}\")\n"
   ]
  },
  {
   "cell_type": "markdown",
   "metadata": {},
   "source": [
    "Com isso temos que:\n",
    "\n",
    "- **r = 0.9611** indica uma correlaçâo muito forte.\n",
    "\n",
    "- **R^2=0.9237** indica que 92,37% das variações no número de afogamentos são estaticamente explicadas pelo número de aparições\n",
    "\n",
    "- **p-value = 0.000010 ($<$ 0.05)** indica que a correlação é estatisticamente significante.\n",
    "\n",
    "\n",
    "Contudo, apesar de as duas variáveis apresentaram uma forte correlação, o número de aparições ``não é um bom preditor`` do número de pessoas afogadas no Brasil\n",
    "\n",
    "<br>\n",
    "\n",
    "---"
   ]
  },
  {
   "cell_type": "markdown",
   "metadata": {},
   "source": [
    "### **``Estatística e Machine Learning - QUESTÃO 5``**\n",
    "#### **``BONUS 1``**\n",
    "\n",
    "Que acontece quando se usa Covariância para identificar a relação entre as duas variáveis?"
   ]
  },
  {
   "cell_type": "code",
   "execution_count": 4,
   "metadata": {},
   "outputs": [
    {
     "name": "stdout",
     "output_type": "stream",
     "text": [
      "Covariância: 384.8889\n"
     ]
    }
   ],
   "source": [
    "covariance = dataset_df['Aparicoes_Zendaya'].cov(dataset_df['Afogamentos_Brasil'])\n",
    "print(f\"Covariância: {covariance:.4f}\")"
   ]
  },
  {
   "cell_type": "markdown",
   "metadata": {},
   "source": [
    "Quando usamos a covariância para analisar a relação entre as aparições da Zendaya em filmes e os afogamentos em piscinas no Brasil, enfrentamos várias limitações importantes:\n",
    "\n",
    "- **``Ausência de escala padronizada:``**\\\n",
    "A covariância não possui limites definidos, o valor 384,89 por si só não nos diz se a relação é forte ou fraca.\n",
    "\n",
    "- **``Dependência da escala das variáveis:``**\\\n",
    "    Se mudássemos as unidades de medida o valor da covariância mudaria drasticamente, mesmo que a relação fundamental permanecesse idêntica.\n",
    "\n",
    "- **``Impossibilidade de comparação:``**\\\n",
    "Não podemos comparar diretamente a covariância desta relação com outras relações entre variáveis diferentes.\n",
    "\n",
    "- **``Interpretação limitada:``**\\\n",
    "Embora o valor positivo da covariância indique que as variáveis se movem na mesma direção, não conseguimos quantificar a força desta relação.\n",
    "\n",
    "<br>\n",
    "\n",
    "---"
   ]
  },
  {
   "cell_type": "markdown",
   "metadata": {},
   "source": [
    "### **``Estatística e Machine Learning - QUESTÃO 5``**\n",
    "#### **``BONUS 2``**\n",
    "\n",
    "Identifique e mencione alguns possíveis confounders:\n",
    "\n",
    "- **``Tendência temporal:``**\\\n",
    "Ambas as variáveis podem estar simplesmente aumentando ao longo do tempo por razões independentes.\n",
    "\n",
    "- **``Temperatura/Sazonalidade:``**\\\n",
    "Anos mais quentes podem levar a maior uso de piscinas e coincidir com períodos de maior lançamento de filmes de verão.\n",
    "\n",
    "- **``Crescimento populacional:``**\\\n",
    "O aumento da população brasileira pode levar a mais afogamentos e o crescimento da indústria leva a mais filmes.\n",
    "\n",
    "<br>\n",
    "\n",
    "---"
   ]
  },
  {
   "cell_type": "markdown",
   "metadata": {},
   "source": [
    "### **``Estatística e Machine Learning - QUESTÃO 6``**\n",
    "\n",
    "Qual é a diferença entre amostragem estratificada e amostragem randômica ou aleatória?\n",
    "\n",
    "- **``Amostragem Aleatória:``**\\\n",
    "Na amostragem aleatória, cada elemento da população tem a mesma probabilidade de ser selecionado para a amostra.\\\n",
    "O processo é completamente randômico, sem considerar características específicas dos elementos.\n",
    "\n",
    "- **``Amostragem Estratificada:``**\\\n",
    "Na amostragem estratificada a população é dividida em subgrupos com base em características relevantes (Peso, idade, estado, país, etc.)\\\n",
    "A amostragem seleciona os elementos da amostra em número proporcional ao tamanho de cada um dos estratos.\n",
    "\n",
    "<br>\n",
    "\n",
    "Qual você selecionaria se no seu estudo tem suspeita de confounding mas sua amostra é muito grande?\n",
    "\n",
    "- **``Amostragem Estratificada``**\n",
    "    - Garante uma melhor representação dos grupos\n",
    "\n",
    "    - Reduz o erro amostral\n",
    "\n",
    "    - Reduz a variância\n",
    "\n",
    "<br>\n",
    "\n",
    "---"
   ]
  },
  {
   "cell_type": "markdown",
   "metadata": {},
   "source": [
    "### **``Estatística e Machine Learning - QUESTÃO 7``**\n",
    "\n",
    "Se você treina um modelo de Machine Learning (ou estadístico), como você identificaria se seu modelo tem uma alta variância (overfitting) ou um alto viés (bias, ou underfitting).\n",
    "\n",
    "Caso seu modelo apresenta alta variância, como você resolveria esse problema?\n",
    "\n",
    "<br>\n",
    "\n",
    "Para identificar se um modelo de Machine Learning apresenta alta variância (overfitting) ou alto viés (underfitting), é necessário analisar seu comportamento nos conjuntos de treinamento e teste.\n",
    "\n",
    "### **Identificação de Problemas no Modelo**\n",
    "\n",
    "| Problema | Sintomas | Métricas de Identificação | Comportamento da Curva de Aprendizado |\n",
    "|----------|----------|---------------------------|---------------------------------------|\n",
    "| **Alto Viés (Underfitting)** | • Modelo muito simples<br>• Incapaz de capturar padrões nos dados | • Alto erro no conjunto de treino<br>• Alto erro no conjunto de validação<br>• Erro de treino e validação similares e altos | • Erro de treino e validação convergem rapidamente para um valor alto<br>• Ambas as curvas são planas e próximas |\n",
    "| **Alta Variância (Overfitting)** | • Modelo muito complexo<br>• Captura ruído nos dados de treino | • Baixo erro no conjunto de treino<br>• Alto erro no conjunto de validação<br>• Grande diferença entre erro de treino e validação | • Erro de treino muito baixo<br>• Grande gap entre erro de treino e validação<br>• Curva de validação não estabiliza com mais dados |\n",
    "\n",
    "\n",
    "### **Soluções para Alta Variância (Overfitting)**\n",
    "\n",
    "\n",
    "| Técnica | Descrição | Implementação |\n",
    "|---------|-----------|---------------|\n",
    "| **Regularização** | Adiciona penalidade à complexidade do modelo | • L1 (Lasso): `alpha * Σ\\|w_i\\|`<br>• L2 (Ridge): `alpha * Σw_i²`<br>• ElasticNet: combinação de L1 e L2 |\n",
    "| **Redução de Complexidade** | Simplifica o modelo | • Reduzir número de camadas/neurônios em redes neurais<br>• Diminuir profundidade de árvores<br>• Reduzir número de features |\n",
    "| **Mais Dados** | Aumenta o tamanho do conjunto de treino | • Coleta de mais dados<br>• Data augmentation<br>• Técnicas de oversampling |\n",
    "| **Dropout** | Desativa aleatoriamente neurônios durante o treino | • Em redes neurais: `model.add(Dropout(0.5))` |\n",
    "| **Early Stopping** | Interrompe o treino quando performance no conjunto de validação começa a piorar | • Monitorar erro de validação e parar quando começar a aumentar |\n",
    "| **Ensemble Methods** | Combina múltiplos modelos | • Bagging (Random Forest)<br>• Boosting (XGBoost, AdaBoost)<br>• Stacking |\n",
    "| **Cross-Validation** | Avalia o modelo em diferentes subconjuntos dos dados | • K-Fold Cross-Validation<br>• Leave-One-Out Cross-Validation |\n",
    "\n",
    "<br>\n",
    "\n",
    "A escolha da técnica mais adequada dependerá do tipo específico de modelo e do contexto do problema sendo resolvido.\n",
    "\n",
    "A combinação de várias dessas abordagens frequentemente produz os melhores resultados para combater o overfitting.\n",
    "\n",
    "<br>\n",
    "\n",
    "---"
   ]
  },
  {
   "cell_type": "markdown",
   "metadata": {},
   "source": [
    "### **``Estatística e Machine Learning - QUESTÃO 8``**\n",
    "\n",
    "#### **Por que o teorema central do limite é importante no campo da inferência estatística?**\n",
    "\n",
    "O Teorema Central do Limite (TCL) garante que, à medida que o tamanho da amostra aumenta, **a distribuição da média amostral se aproxima de uma distribuição normal**, independentemente da forma da distribuição da população.\n",
    "\n",
    "Isso permite que possamos fazer estimativas e testes de hipóteses sobre uma população com base em amostras, mesmo quando a distribuição original não é normal.\n",
    "\n",
    "Além disso, o **TCL justifica o uso de intervalos de confiança e de muitos testes estatísticos que assumem normalidade**, tornando-o essencial para análises estatísticas confiáveis e previsíveis.\n",
    "\n",
    "\n",
    "<br>\n",
    "\n",
    "---"
   ]
  },
  {
   "cell_type": "markdown",
   "metadata": {},
   "source": [
    "### **``Estatística e Machine Learning - QUESTÃO 9``**\n",
    "\n",
    "#### **Considere o seguinte modelo de regressão:**\n",
    "\n",
    "**``salario = 1200 + 500 * idade  + 600 * tem_faculdade + 50 * tem_linkedin``**\n",
    "\n",
    "**a.** \tInterprete o efeito da Idade na variável salário:\n",
    "\n",
    "- A cada ano adicional de idade, o salário aumenta em média R$ 500.\n",
    "\n",
    "**b.** Que acontece com as pessoas que não tem faculdade?\n",
    "\n",
    "- Ganham em média R$ 600 a menos que pessoas com faculdade (salario = 1200 + 500 * idade + 50 * tem_linkedin)\n",
    "\n",
    "**c.** Considere agora que o desvio padrão do coeficiente da variável \"Têm Linkedin\" é de 80, por tanto o seu p-valor ≃ 0.92 (como visto na equação abaixo). O que isso implica para o modelo em questão? Essa variável é relevante?\n",
    "\n",
    "\n",
    "| **Salário**     | **1200**  | **500 * idade** | **600 * tem_faculdade** | **50 * tem_linkedin**  |\n",
    "|:----------------|:---------:|:---------------:|:-----------------------:|:----------------------:|\n",
    "| **std**         | (200)     | (125)           | (150)                   | (50)                   |\n",
    "| **t-score**     | 6.11      | 5.32            | 5.06                    | 0.466                  |\n",
    "| **p-value**     | 0.0       | 0.023           | 0.032                   | 0.921                  |\n",
    "\n",
    "<br>\n",
    "\n",
    "Assumindo que a hipótese nula $(H_0)$ é que o coeficiente dá variável tem_linkedin = 0:\n",
    "\n",
    "- Reijatamos a hipótese pois:\n",
    "    \n",
    "    - $p\\text-value = 0.921 > 0.05$\n",
    "\n",
    "- Um t-score = 0.466 indica que o coeficiente não é significativamente diferente de zero\n",
    "\n",
    "Portanto, a variável tem_linkedin **não é relevante para o modelo e pode ser removida**\n"
   ]
  }
 ],
 "metadata": {
  "kernelspec": {
   "display_name": ".venv",
   "language": "python",
   "name": "python3"
  },
  "language_info": {
   "codemirror_mode": {
    "name": "ipython",
    "version": 3
   },
   "file_extension": ".py",
   "mimetype": "text/x-python",
   "name": "python",
   "nbconvert_exporter": "python",
   "pygments_lexer": "ipython3",
   "version": "3.12.4"
  }
 },
 "nbformat": 4,
 "nbformat_minor": 2
}
