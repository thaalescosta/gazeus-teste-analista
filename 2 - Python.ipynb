{
 "cells": [
  {
   "cell_type": "markdown",
   "metadata": {},
   "source": [
    "\n",
    "### **``Estatística e Machine Learning - QUESTÃO 1``**\n",
    "\n",
    "Arqueologistas estão interessados no estudo das linguagens de diferentes tribos e civilizações.\n",
    "\n",
    "- Cada linguagem possui um alfabeto específico\n",
    "- Qual o número possível de palavras em função do ``número de caracteres`` e ``símbolos (alfabeto)``\n",
    "- Sem repetição de caracteres/símbolos\n",
    "\n",
    "\n",
    "\n",
    "#### **EXEMPLO**\n",
    "- **Número de caracteres:** ``longitudes = [2, 3, 4, 5, 22]``\n",
    "- **Alfabeto:** ``alfabeto = [@, d, 2, b]``\n",
    "\n",
    "**Válidas:**\n",
    "- ``[@ 1 2]``\n",
    "- ``[@ d b]``\n",
    "- ``[d 1 2]``\n",
    "\n",
    "**Inválidas:**\n",
    "- ``[@ @ 2]``\n",
    "- ``[d 1 1]``\n",
    "- ``[b 2 2]``\n",
    "<br></br>\n",
    "\n",
    "#### **Criando as listas:**"
   ]
  },
  {
   "cell_type": "code",
   "execution_count": 1,
   "metadata": {},
   "outputs": [],
   "source": [
    "longitudes =[2, 3, 4, 5, 22]\n",
    "\n",
    "alfabeto = ['@', 'd', '2', 'b']"
   ]
  },
  {
   "cell_type": "markdown",
   "metadata": {},
   "source": [
    "#### **Fórmula da permutação:**\n",
    "\n",
    "``P(m, n) = m × (m−1) × (m−2) × ... × (m−n+1)``\n",
    "\n",
    "- ``m =`` número de letras/símbolos no alfabeto\n",
    "- ``n =`` número de caracteres em uma palavra\n",
    "<br></br>\n",
    "\n",
    "- ``m <= n;`` caso contrário é impossível formar palavras sem repetição"
   ]
  },
  {
   "cell_type": "markdown",
   "metadata": {},
   "source": [
    "#### **Função do cálculo de permutações**"
   ]
  },
  {
   "cell_type": "code",
   "execution_count": 2,
   "metadata": {},
   "outputs": [
    {
     "name": "stdout",
     "output_type": "stream",
     "text": [
      "Longitude: 2\tNúmero de palavras possíveis é 12\n",
      "Longitude: 3\tNúmero de palavras possíveis é 24\n",
      "Longitude: 4\tNúmero de palavras possíveis é 24\n",
      "Longitude: 5\tNão é possível formar palavras sem que haja repetição\n",
      "Longitude: 22\tNão é possível formar palavras sem que haja repetição\n"
     ]
    }
   ],
   "source": [
    "def calcular_palavras(alfabeto, longitudes):\n",
    "    m = len(alfabeto)  # Número de símbolos no alfabeto\n",
    "    resultados = {}  # Dicionário para armazenar os resultados\n",
    "\n",
    "    def permutacao(m, n):\n",
    "        if n > m: # Se n > m é impossível formar palavras sem repetição\n",
    "            return 0\n",
    "        resultado = 1 # Inicializa a variável\n",
    "\n",
    "        for i in range(n): # i = 0 inicialmente // range(n) retorna a quantidade de itens na lista 'longitutes'\n",
    "            resultado *= (m - i)\n",
    "        return resultado\n",
    "\n",
    "    # Para cada comprimento de palavra na lista longitudes\n",
    "    for n in longitudes:\n",
    "        resultados[n] = permutacao(m, n)\n",
    "\n",
    "    return resultados\n",
    "\n",
    "resultados = calcular_palavras(alfabeto, longitudes)\n",
    "for comprimento, total_palavras in resultados.items():\n",
    "    if total_palavras == 0:\n",
    "        print(f\"Longitude: {comprimento}\\tNão é possível formar palavras sem que haja repetição\")\n",
    "    else:\n",
    "        print(f\"Longitude: {comprimento}\\tNúmero de palavras possíveis é {total_palavras}\")\n"
   ]
  }
 ],
 "metadata": {
  "kernelspec": {
   "display_name": ".venv",
   "language": "python",
   "name": "python3"
  },
  "language_info": {
   "codemirror_mode": {
    "name": "ipython",
    "version": 3
   },
   "file_extension": ".py",
   "mimetype": "text/x-python",
   "name": "python",
   "nbconvert_exporter": "python",
   "pygments_lexer": "ipython3",
   "version": "3.12.4"
  }
 },
 "nbformat": 4,
 "nbformat_minor": 2
}
