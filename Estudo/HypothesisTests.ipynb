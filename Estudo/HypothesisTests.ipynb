{
 "cells": [
  {
   "cell_type": "markdown",
   "metadata": {},
   "source": [
    "# **Hypothesis Tests**\n",
    "\n",
    "| **Scenario**                     | **Test**               | **Assumptions**                          | **Example Use Case**                     |\n",
    "|----------------------------------|------------------------|------------------------------------------|------------------------------------------|\n",
    "| **Compare 2 means**              |                        |                                          |                                          |\n",
    "| Independent Samples              | $t$-test               | 1. Normal data<br>2. Equal variances<br>3. Independent samples | Compare Group A ($\\mu_A$) vs Group B ($\\mu_B$) |\n",
    "| Paired Samples                   | Paired $t$-test        | 1. Normal differences<br>2. Dependent samples | Pre-test vs post-test ($\\mu_{diff}$)    |\n",
    "| **Compare ≥3 means**             |                        |                                          |                                          |\n",
    "| Normal distributions             | ANOVA ($F$-test)       | 1. Normality<br>2. Homogeneity of variance | Compare Groups A, B, C, D ($\\mu_1=\\mu_2=\\dots=\\mu_k$) |\n",
    "| Non-normal distributions         | Kruskal-Wallis         | Ordinal/continuous data                  | Compare skewed distributions            |\n",
    "| **Compare proportions**          |                        |                                          |                                          |\n",
    "| Large samples                    | $\\chi^2$ test          | Expected frequencies ≥5                  | Pass/fail rates ($p_1 = p_2$?)           |\n",
    "| Small samples                    | Fisher's exact         | Any sample size                          | Rare disease incidence                  |\n",
    "| **Test independence**            | $\\chi^2$ test          | Categorical variables                    | Gender $\\perp\\!\\!\\!\\perp$ PassRate      |\n",
    "| **Compare distributions**        | Kolmogorov-Smirnov     | Continuous data                          | Check identical score distributions     |\n",
    "| **Correlation**                  |                        |                                          |                                          |\n",
    "| Linear relationship              | Pearson's $r$          | 1. Linear trend<br>2. Normality          | Study time $\\sim$ Exam scores           |\n",
    "| Monotonic relationship           | Spearman's $\\rho$      | Ordinal/non-normal data                  | Class rank $\\sim$ Satisfaction          |\n",
    "| **Non-parametric alternatives**  |                        |                                          |                                          |\n",
    "| 2 independent groups             | Mann-Whitney $U$       | Non-normal data                          | Median salary comparison                |\n",
    "| 2 paired groups                  | Wilcoxon signed-rank   | Non-normal paired data                   | Pain levels before/after treatment      |\n"
   ]
  },
  {
   "cell_type": "markdown",
   "metadata": {},
   "source": []
  }
 ],
 "metadata": {
  "language_info": {
   "name": "python"
  }
 },
 "nbformat": 4,
 "nbformat_minor": 2
}
