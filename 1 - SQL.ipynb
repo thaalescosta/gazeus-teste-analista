{
 "cells": [
  {
   "cell_type": "code",
   "execution_count": null,
   "metadata": {},
   "outputs": [],
   "source": [
    "# %pip install faker\n",
    "# %pip install sqlite\n",
    "# %pip install pandas"
   ]
  },
  {
   "cell_type": "code",
   "execution_count": 1,
   "metadata": {},
   "outputs": [],
   "source": [
    "import pandas as pd\n",
    "import random\n",
    "import sqlite3\n",
    "import datetime\n",
    "\n",
    "from faker import Faker\n",
    "from datetime import timedelta"
   ]
  },
  {
   "cell_type": "markdown",
   "metadata": {},
   "source": [
    "### **Variáveis**\n",
    "\n",
    "**Users**\n",
    "- user_id\n",
    "- name\n",
    "- age\n",
    "- country\n",
    "\n",
    "**Transactions**\n",
    "- user_id\n",
    "- transaction_id\n",
    "- transaction_date\n",
    "- transaction_state\n",
    "- transaction_amount\n",
    "\n",
    "## **Criando a base de dados:**\n"
   ]
  },
  {
   "cell_type": "code",
   "execution_count": 4,
   "metadata": {},
   "outputs": [],
   "source": [
    "# Create connection to database\n",
    "conn = sqlite3.connect('dbCompany')\n",
    "cursor = conn.cursor()\n",
    "\n",
    "# Create users table\n",
    "cursor.execute(\n",
    "                '''\n",
    "                CREATE TABLE IF NOT EXISTS users (\n",
    "                    user_id INTEGER PRIMARY KEY,\n",
    "                    name TEXT NOT NULL,\n",
    "                    age INTEGER NOT NULL,\n",
    "                    country TEXT NOT NULL\n",
    "                )\n",
    "                '''\n",
    ")\n",
    "\n",
    "# Create transactions table\n",
    "cursor.execute(\n",
    "                '''\n",
    "                CREATE TABLE IF NOT EXISTS transactions (\n",
    "                    user_id INTEGER NOT NULL,\n",
    "                    transaction_id INTEGER PRIMARY KEY,\n",
    "                    transaction_date TEXT NOT NULL,\n",
    "                    transaction_state TEXT NOT NULL,\n",
    "                    transaction_amount REAL NOT NULL,\n",
    "                    FOREIGN KEY (user_id) REFERENCES users (user_id)\n",
    "                )\n",
    "                '''\n",
    "               )\n",
    "\n",
    "conn.commit()\n",
    "conn.close()"
   ]
  },
  {
   "cell_type": "markdown",
   "metadata": {},
   "source": [
    "## **Gerando uma base de dados aleatória**"
   ]
  },
  {
   "cell_type": "code",
   "execution_count": null,
   "metadata": {},
   "outputs": [],
   "source": [
    "faker_us = Faker('en-US')\n",
    "faker_br = Faker('pt-BR')\n",
    "faker_fr = Faker('fr-FR')\n",
    "\n",
    "\n",
    "countries = ['USA', 'Brazil', 'France']\n",
    "data = {\n",
    "    'user_id': [],\n",
    "    'name': [],\n",
    "    'age': [],\n",
    "    'country': []\n",
    "}\n",
    "\n",
    "for i in range(100):  # Generate 100 users\n",
    "    country = random.choice(countries)\n",
    "    # Select appropriate faker based on country\n",
    "    if country == 'USA':\n",
    "        faker = faker_us\n",
    "    elif country == 'Brazil':\n",
    "        faker = faker_br\n",
    "    else:\n",
    "        faker = faker_fr\n",
    "    data['user_id'].append(i + 1)\n",
    "    data['name'].append(faker.name())\n",
    "    data['age'].append(random.randint(18, 65))\n",
    "    data['country'].append(country)\n",
    "\n",
    "# Create transactions dataframe\n",
    "transaction_states = ['INITIATED', 'SUCCESS', 'FRAUD', 'CANCELLED']\n",
    "transactions = {\n",
    "    'transaction_id': [],\n",
    "    'user_id': [],\n",
    "    'transaction_date': [], \n",
    "    'transaction_state': [],\n",
    "    'transaction_amount': []\n",
    "}\n",
    "\n",
    "for i in range(1000):  # Generate 500 transactions\n",
    "    transactions['transaction_id'].append(i + 1)\n",
    "    transactions['user_id'].append(random.randint(1, 100))\n",
    "    # Generate random timestamp between 2022-2023\n",
    "    random_date = datetime.datetime(random.randint(2022, 2024), 1, 1) + timedelta(\n",
    "        days=random.randint(0, 729),\n",
    "        hours=random.randint(0, 23),\n",
    "        minutes=random.randint(0, 59),\n",
    "        seconds=random.randint(0, 59)\n",
    "    )\n",
    "    transactions['transaction_date'].append(random_date.strftime('%Y-%m-%d %H:%M:%S'))\n",
    "    transactions['transaction_state'].append(random.choice(transaction_states))\n",
    "    transactions['transaction_amount'].append(round(random.uniform(10000, 100000), 2))\n",
    "\n",
    "users_df = pd.DataFrame(data)\n",
    "transactions_df = pd.DataFrame(transactions)\n",
    "\n",
    "\n",
    "display(users_df)\n",
    "display(transactions_df)"
   ]
  },
  {
   "cell_type": "code",
   "execution_count": null,
   "metadata": {},
   "outputs": [],
   "source": [
    "# Create database connection and cursor\n",
    "conn = sqlite3.connect('dbCompany')\n",
    "cursor = conn.cursor()\n",
    "\n",
    "users_data = list(users_df.itertuples(index=False, name=None))\n",
    "transactions_data = list(transactions_df.itertuples(index=False, name=None))\n",
    "\n",
    "# Inserindo o dataframe users_df na tabela users\n",
    "cursor.executemany('INSERT INTO users (user_id, name, age, country) VALUES (?, ?, ?, ?)', users_data)\n",
    "\n",
    "# Inserindo o dataframe transactions_df na tabela transactions\n",
    "cursor.executemany(\n",
    "                    '''\n",
    "                    INSERT INTO transactions \n",
    "                    (transaction_id, user_id, transaction_date, transaction_state, transaction_amount) \n",
    "                    VALUES (?, ?, ?, ?, ?)\n",
    "                    '''\n",
    "                    , transactions_data\n",
    ")\n",
    "\n",
    "conn.commit()\n",
    "\n",
    "print(f'Número de usuários inseridos: {len(users_data)}\\nNúmero de transações inseridas: {len(transactions_data)}')"
   ]
  },
  {
   "cell_type": "markdown",
   "metadata": {},
   "source": [
    "**A.** Qual é a idade média de usuários do sistema por país"
   ]
  },
  {
   "cell_type": "code",
   "execution_count": null,
   "metadata": {},
   "outputs": [],
   "source": [
    "query = '''\n",
    "        SELECT country AS Country, ROUND(COUNT(user_id),2) AS 'Média de idade' \n",
    "        FROM users\n",
    "        GROUP BY country\n",
    "        '''\n",
    "\n",
    "df_A = pd.read_sql(query, conn)\n",
    "\n",
    "display(df_A)"
   ]
  },
  {
   "cell_type": "markdown",
   "metadata": {},
   "source": [
    "**B.** Qual é o país com a maior quantidade de dinheiro transacionado (considere só transações finalizadas com sucesso ou ``SUCCESS``)"
   ]
  },
  {
   "cell_type": "code",
   "execution_count": null,
   "metadata": {},
   "outputs": [],
   "source": [
    "query = '''\n",
    "        WITH TotalSuccess AS (\n",
    "                SELECT user_id, SUM(transaction_amount) AS transacoes \n",
    "                FROM transactions \n",
    "                WHERE transaction_state = 'SUCCESS'\n",
    "                GROUP BY user_id\n",
    "                )\n",
    "\n",
    "        SELECT u.country AS País, SUM(t.transacoes) AS \"Soma das Transações\"\n",
    "        FROM TotalSuccess t\n",
    "        LEFT JOIN users u\n",
    "        ON u.user_id = t.user_id\n",
    "        GROUP BY u.country\n",
    "        '''\n",
    "\n",
    "df_B = pd.read_sql(query, conn)\n",
    "\n",
    "display(df_B)"
   ]
  },
  {
   "cell_type": "markdown",
   "metadata": {},
   "source": [
    "**C.** Qual é o país com maior taxa de fraude em porcentagem respeito ao número de transações totais no país"
   ]
  },
  {
   "cell_type": "code",
   "execution_count": null,
   "metadata": {},
   "outputs": [],
   "source": [
    "query = '''\n",
    "        WITH\n",
    "        Total AS (\n",
    "            SELECT u.country, COUNT(*) as total_transacoes\n",
    "            FROM transactions t\n",
    "            LEFT JOIN users u\n",
    "            ON t.user_id = u.user_id \n",
    "            GROUP BY u.country\n",
    "        ),\n",
    "        Fraudes AS (\n",
    "            SELECT u.country, COUNT(*) as total_fraud\n",
    "            FROM transactions t\n",
    "            LEFT JOIN users u\n",
    "            ON t.user_id = u.user_id\n",
    "            WHERE t.transaction_state = 'FRAUD'\n",
    "            GROUP BY u.country\n",
    "        )\n",
    "        \n",
    "        SELECT \n",
    "            t.country AS País,\n",
    "            ROUND(CAST(f.total_fraud AS FLOAT) / t.total_transacoes * 100, 2) as 'Taxa de Fraudes'\n",
    "        FROM Total t\n",
    "        LEFT JOIN Fraudes f\n",
    "        ON t.country = f.country\n",
    "        ORDER BY 'Taxa de Fraudes' DESC\n",
    "        '''\n",
    "\n",
    "# Execute the SQL query and store results in a pandas DataFrame\n",
    "df_C = pd.read_sql(query, conn)\n",
    "\n",
    "# Display the resulting DataFrame showing country fraud percentages\n",
    "display(df_C)"
   ]
  },
  {
   "cell_type": "markdown",
   "metadata": {},
   "source": [
    "**D.** Na mesma linha da pergunta anterior, responda qual é a faixa de idade de usuários\n",
    "que mais cometem fraude (em percentagem).\n",
    "\n",
    "Separe as faixas etárias em ``< 18 anos, 18-30 anos, 30 - 45 anos, 45 - 60 anos, 60 > anos``\n",
    "\n",
    "Considerar o fato que um usuário pode ter executado várias transações, das quais poucas (ou muitas) podem ter sido fraude entre as demais."
   ]
  },
  {
   "cell_type": "code",
   "execution_count": null,
   "metadata": {},
   "outputs": [],
   "source": []
  },
  {
   "cell_type": "markdown",
   "metadata": {},
   "source": [
    "**E.** Imagine que a camada executiva da empresa dona do sistema, precisa criar um Dashboard para monitorar o estado das transações nos últimos 3 dias.\n",
    "\n",
    "Criar uma query SQL que calcule:\n",
    "\n",
    "1. ``Número e dinheiro das transações não finalizadas``\n",
    "\n",
    "2. ``Número e dinheiro de transações finalizadas com sucesso (SUCCESS)``\n",
    "\n",
    "3. ``Número e dinheiro de transações canceladas (CANCELLED)``\n",
    "\n",
    "4. ``Número e dinheiro de fraudes (FRAUD)``\n",
    "\n",
    "Agrupado por país e nos 3 dias anteriores de quando o executivo da empresa consulte seu Dashboard."
   ]
  },
  {
   "cell_type": "code",
   "execution_count": null,
   "metadata": {},
   "outputs": [],
   "source": []
  },
  {
   "cell_type": "code",
   "execution_count": 98,
   "metadata": {},
   "outputs": [],
   "source": [
    "conn.close()"
   ]
  }
 ],
 "metadata": {
  "kernelspec": {
   "display_name": ".venv",
   "language": "python",
   "name": "python3"
  },
  "language_info": {
   "codemirror_mode": {
    "name": "ipython",
    "version": 3
   },
   "file_extension": ".py",
   "mimetype": "text/x-python",
   "name": "python",
   "nbconvert_exporter": "python",
   "pygments_lexer": "ipython3",
   "version": "3.13.2"
  }
 },
 "nbformat": 4,
 "nbformat_minor": 2
}
